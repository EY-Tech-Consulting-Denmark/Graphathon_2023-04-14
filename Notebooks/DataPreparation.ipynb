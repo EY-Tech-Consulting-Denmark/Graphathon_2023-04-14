{
 "cells": [
  {
   "cell_type": "markdown",
   "id": "294a5e8f-2913-47a8-9dc3-60f1d785e095",
   "metadata": {},
   "source": [
    "# Notebook for data preparation"
   ]
  },
  {
   "cell_type": "code",
   "execution_count": null,
   "id": "8f5ead3e-bf6e-4b31-8632-ba05e35b7457",
   "metadata": {},
   "outputs": [],
   "source": [
    "import os\n",
    "import sys\n",
    "import math\n",
    "import scipy as scipy\n",
    "import numpy as np\n",
    "import pandas as pd\n",
    "import matplotlib.pyplot as plt\n",
    "import seaborn as sns\n",
    "\n",
    "%matplotlib inline\n",
    "import warnings\n",
    "warnings.filterwarnings('ignore')\n",
    "warnings.simplefilter('ignore')\n",
    "pd.set_option('display.max_columns',100)"
   ]
  },
  {
   "cell_type": "markdown",
   "id": "dbc81982-4ce4-4f29-bd46-2dcdefc7d14e",
   "metadata": {},
   "source": [
    "### Project Objectives\n",
    "Provider Fraud is one of the biggest problems facing Medicare. According to the government, the total Medicare spending increased exponentially due to frauds in Medicare claims. Healthcare fraud is an organized crime which involves peers of providers, physicians, beneficiaries acting together to make fraud claims.\n",
    "\n",
    "Rigorous analysis of Medicare data has yielded many physicians who indulge in fraud. They adopt ways in which an ambiguous diagnosis code is used to adopt costliest procedures and drugs. Insurance companies are the most vulnerable institutions impacted due to these bad practices. Due to this reason, insurance companies increased their insurance premiums and as result healthcare is becoming costly matter day by day.\n",
    "\n",
    "Healthcare fraud and abuse take many forms. Some of the most common types of frauds by providers are:\n",
    "\n",
    "a) Billing for services that were not provided.\n",
    "\n",
    "b) Duplicate submission of a claim for the same service.\n",
    "\n",
    "c) Misrepresenting the service provided.\n",
    "\n",
    "d) Charging for a more complex or expensive service than was actually provided.\n",
    "\n",
    "e) Billing for a covered service when the service actually provided was not covered.\n",
    "\n",
    "Problem Statement\n",
    "The goal of this project is to \" predict the potentially fraudulent providers \" based on the claims filed by them.along with this, we will also discover important variables helpful in detecting the behaviour of potentially fraud providers. further, we will study fraudulent patterns in the provider's claims to understand the future behaviour of providers.\n",
    "\n",
    "Introduction to the Dataset\n",
    "For the purpose of this project, we are considering Inpatient claims, Outpatient claims and Beneficiary details of each provider. Lets s see their details"
   ]
  },
  {
   "cell_type": "markdown",
   "id": "9a40af4c-8d63-4a16-b49e-1a1fea216736",
   "metadata": {},
   "source": [
    "### Data loading\n",
    "\n",
    "Data are loaded from the public github repository https://github.com/EY-Tech-Consulting-Denmark/Graphathon-ATP/tree/main/Data/raw_data"
   ]
  },
  {
   "cell_type": "code",
   "execution_count": null,
   "id": "fe289084-055d-4f05-be8b-7b81ec11689d",
   "metadata": {},
   "outputs": [],
   "source": [
    "beneficiary = pd.read_csv(\"https://raw.githubusercontent.com/EY-Tech-Consulting-Denmark/Graphathon_2023-04-14/main/Data/raw_data/Train_Beneficiarydata-1542865627584.csv\")\n",
    "inpatient = pd.read_csv(\"https://raw.githubusercontent.com/EY-Tech-Consulting-Denmark/Graphathon_2023-04-14/main/Data/raw_data/Train_Inpatientdata-1542865627584.csv\")\n",
    "label = pd.read_csv(\"https://raw.githubusercontent.com/EY-Tech-Consulting-Denmark/Graphathon_2023-04-14/main/Data/raw_data/Train-1542865627584.csv\")"
   ]
  },
  {
   "cell_type": "markdown",
   "id": "04e91565-2d04-4abb-938f-8e0fbe28958a",
   "metadata": {},
   "source": [
    "#### Label data\n",
    "This is of list historical data about each provider in the overall dataset.  \n",
    "This information will allow for detecting patterns that in the future will help to identify whether new, unfamiliar providers are potentially fraudulent or not.\n"
   ]
  },
  {
   "cell_type": "code",
   "execution_count": null,
   "id": "bce2d06d-eb68-4a64-872e-6c28d88b251d",
   "metadata": {},
   "outputs": [],
   "source": [
    "label.head()"
   ]
  },
  {
   "cell_type": "code",
   "execution_count": null,
   "id": "14944f2a-e6d3-4e45-8865-573a32120ddd",
   "metadata": {},
   "outputs": [],
   "source": [
    "label.shape"
   ]
  },
  {
   "cell_type": "code",
   "execution_count": null,
   "id": "0fb9d6a5-8541-4c37-af50-8efa72873e37",
   "metadata": {},
   "outputs": [],
   "source": [
    "# class imballance check\n",
    "label_overview = label.groupby(\"PotentialFraud\").size()\n",
    "print(label_overview)\n",
    "label_overview.plot(kind='bar')"
   ]
  },
  {
   "cell_type": "markdown",
   "id": "bffe1437-6d62-44c6-a57d-89d705857893",
   "metadata": {
    "tags": []
   },
   "source": [
    "#### Beneficiary data\n",
    "\n",
    "This data contains beneficiary KYC details like health conditions,regioregion they belong to etc.   \n",
    "This dataset contains both patients that were admitted to the hospital and patients who were not admitted to the hospital.  \n",
    "Data about patients who were not admitted to the hospital will be disregarded when merging with the other dataset.  \n"
   ]
  },
  {
   "cell_type": "code",
   "execution_count": null,
   "id": "d20f0e9c-f135-48a1-92e4-cb1b4fa1e0fd",
   "metadata": {},
   "outputs": [],
   "source": [
    "beneficiary.head()"
   ]
  },
  {
   "cell_type": "code",
   "execution_count": null,
   "id": "6f6b9337-68bf-4902-aabe-e4a19aca174c",
   "metadata": {},
   "outputs": [],
   "source": [
    "beneficiary.shape"
   ]
  },
  {
   "cell_type": "code",
   "execution_count": null,
   "id": "d5a8004c-19d0-4516-92b4-154c359cc0c5",
   "metadata": {},
   "outputs": [],
   "source": [
    "beneficiary.describe()"
   ]
  },
  {
   "cell_type": "code",
   "execution_count": null,
   "id": "697d26dd-e882-4a9c-80a6-a3760211b116",
   "metadata": {},
   "outputs": [],
   "source": [
    "# missing values check\n",
    "beneficiary.isna().sum()"
   ]
  },
  {
   "cell_type": "markdown",
   "id": "ff413326-87b8-47af-aed8-b18e250ac842",
   "metadata": {},
   "source": [
    "Missing value of \"DOD\" column imply that the patients is still alive.  \n",
    "The missing values will be replaced with '0' in the Feature engineering process later.  "
   ]
  },
  {
   "cell_type": "markdown",
   "id": "64ac7ad4-6a9f-4542-9073-3bdb27296920",
   "metadata": {},
   "source": [
    "#### Inpatient data\n",
    "This data provides insights about the claims filed for those patients who are admitted in the hospitals. It also provides additional details like their admission and discharge dates and admit diagnosis code.  \n",
    "Later will be this dataset merged with the Beneficiary data dataset presented above.  "
   ]
  },
  {
   "cell_type": "code",
   "execution_count": null,
   "id": "229b1fc6-0c6d-4ebc-b07c-c15c593c9ffe",
   "metadata": {},
   "outputs": [],
   "source": [
    "inpatient.head()"
   ]
  },
  {
   "cell_type": "code",
   "execution_count": null,
   "id": "8ef573de-dda6-476a-80c8-25e406c8a78d",
   "metadata": {},
   "outputs": [],
   "source": [
    "inpatient.shape"
   ]
  },
  {
   "cell_type": "code",
   "execution_count": null,
   "id": "7189b56c-9a2a-40ce-a8f6-49e68e4336fe",
   "metadata": {},
   "outputs": [],
   "source": [
    "inpatient.describe()"
   ]
  },
  {
   "cell_type": "markdown",
   "id": "7a11f637-b54d-495a-9a6e-1cda2ae9cc4f",
   "metadata": {},
   "source": [
    "'ClmProcedureCode_6' column is empty for each row, hence will be dropped in Feature engineering step."
   ]
  },
  {
   "cell_type": "code",
   "execution_count": null,
   "id": "ec1f559c-e852-4ae5-a45e-43bce5e8c213",
   "metadata": {},
   "outputs": [],
   "source": [
    "# missing values check\n",
    "inpatient.isna().sum()"
   ]
  },
  {
   "cell_type": "markdown",
   "id": "3640977b-75ae-4e4c-8d78-739ae0215f21",
   "metadata": {},
   "source": [
    "Bassed on the context the missing values are not errors but simply not present physician/diagnosis/condition/procedure or that there was no deductible amount paid (missing values of 'DeductibleAmtPaid').  \n",
    "Therefor there is no need to apply filling in missing value technique in the Feature engineering step. "
   ]
  },
  {
   "cell_type": "markdown",
   "id": "26a6b8ce-9161-48b6-b935-447c2052c97f",
   "metadata": {},
   "source": [
    "### Merging of the datasets"
   ]
  },
  {
   "cell_type": "markdown",
   "id": "43dafd6f-ab92-4e90-9a77-7a6003a2bd4b",
   "metadata": {},
   "source": [
    "Beneficiary dataset can be merged with the Inpatient dataset on the 'BeneID' column.  \n",
    "In order to keep only patiens admitted to the hospital, inner join will be utilized.  \n",
    "The label dataset will be then added through inner join utilizing 'Provider' column.  "
   ]
  },
  {
   "cell_type": "code",
   "execution_count": null,
   "id": "ed842f90-c0a6-4ca0-8857-e3e20ace85a6",
   "metadata": {},
   "outputs": [],
   "source": [
    "# Merging beneficiary and inpatient datasets\n",
    "data = pd.merge(beneficiary, inpatient, on='BeneID', how='inner')\n",
    "# adding the label\n",
    "data = pd.merge(data, label, on='Provider', how='inner')"
   ]
  },
  {
   "cell_type": "code",
   "execution_count": null,
   "id": "b9cdb6d0-78a6-4f52-8b47-a883f3b3815a",
   "metadata": {},
   "outputs": [],
   "source": [
    "data.shape"
   ]
  },
  {
   "cell_type": "code",
   "execution_count": null,
   "id": "d3ebcf2b-34bc-4b79-9c47-c6becd6d4f40",
   "metadata": {},
   "outputs": [],
   "source": [
    "data.head()"
   ]
  },
  {
   "cell_type": "markdown",
   "id": "5b2a832a-4a64-47d0-88d4-d495a357b7f7",
   "metadata": {},
   "source": [
    "### Feature engineering"
   ]
  },
  {
   "cell_type": "code",
   "execution_count": null,
   "id": "6b4e6df9-a2fc-4f61-b258-f2bc75135d27",
   "metadata": {},
   "outputs": [],
   "source": [
    "# data types check\n",
    "data.dtypes"
   ]
  },
  {
   "cell_type": "code",
   "execution_count": null,
   "id": "ecb89f6d-5f1f-4aca-b93c-254426687d10",
   "metadata": {},
   "outputs": [],
   "source": [
    "# Fixing the date columns\n",
    "date_cols = ['DOB', 'ClaimStartDt', 'DOD', 'ClaimEndDt', 'AdmissionDt', 'DischargeDt']\n",
    "for date_col in date_cols:\n",
    "    data[date_col] = pd.to_datetime(data[date_col])\n",
    "data.head()"
   ]
  },
  {
   "cell_type": "code",
   "execution_count": null,
   "id": "07690110-163d-4b46-bb7b-77c4a36b1328",
   "metadata": {},
   "outputs": [],
   "source": [
    "# Dropping column ClmProcedureCode_6 as it is empty for every claim\n",
    "data.drop('ClmProcedureCode_6', axis=1, inplace=True)\n",
    "data.head()"
   ]
  },
  {
   "cell_type": "code",
   "execution_count": null,
   "id": "c9d6ebb5-8f02-469c-a5cd-e652ed95f881",
   "metadata": {},
   "outputs": [],
   "source": [
    "# Fixing procedures codes\n",
    "procedure_cols = ['ClmProcedureCode_1', 'ClmProcedureCode_2', 'ClmProcedureCode_3', 'ClmProcedureCode_4', 'ClmProcedureCode_5']\n",
    "for col in procedure_cols:\n",
    "    data[col] =  data[col].apply(lambda x: \"{:.0f}\".format(x) if x is not None else x)\n",
    "data.head()"
   ]
  },
  {
   "cell_type": "markdown",
   "id": "eac12fe4-d8d2-488b-a320-603da827b3eb",
   "metadata": {},
   "source": [
    "Each patient can make multiple claims and hence the age and information should be calculated on the claim level.  \n",
    "Since the claim can is made while the patient is still alive, the flag whether the customer is dead or not is calculated on a 'patient' level.  \n",
    "For these purposes are utilized columns date of birth ('DOB'), date of death ('DOD') and the date of start of the claim ('ClaimStartDt')"
   ]
  },
  {
   "cell_type": "code",
   "execution_count": null,
   "id": "09669fc1-f96e-461d-8490-e0c318017eec",
   "metadata": {},
   "outputs": [],
   "source": [
    "# adding age of the patient when the claim started column\n",
    "data['Age'] = round(((data['ClaimStartDt'] - data['DOB']).dt.days)/365)\n",
    "# adding whether the patient is dead or not\n",
    "data['IsDead'] = np.where(data['DOD'].isna(), 0, 1)\n",
    "data.head()"
   ]
  },
  {
   "cell_type": "markdown",
   "id": "a4607488-b654-4768-a2d5-7c5d6f335e9a",
   "metadata": {},
   "source": [
    "Out of the provided dates can be calculated number of days the patient spent in the hospital,   \n",
    "how long the claim lasted and whether the claim ended after the patient was already discharged from the hospital."
   ]
  },
  {
   "cell_type": "code",
   "execution_count": null,
   "id": "b2b1a939-468b-4320-a98f-25513845195c",
   "metadata": {},
   "outputs": [],
   "source": [
    "data['DaysAdmitted'] = ((data['DischargeDt'] - data['AdmissionDt']).dt.days)+1\n",
    "data['DaysClaimLasted'] = ((data['ClaimEndDt'] - data['ClaimStartDt']).dt.days)+1\n",
    "data['ClaimEndAfterDischarged'] = np.where(data['ClaimEndDt'] > data['DischargeDt'], 1, 0)\n",
    "data.head()"
   ]
  },
  {
   "cell_type": "code",
   "execution_count": null,
   "id": "c4727594-da90-49e9-9f68-fbd4e74d4539",
   "metadata": {},
   "outputs": [],
   "source": [
    "# replacing missing deductible amount paid with 0\n",
    "data.loc[data['DeductibleAmtPaid'].isnull(), 'DeductibleAmtPaid'] = '0'"
   ]
  },
  {
   "cell_type": "markdown",
   "id": "afd7515f-0eca-40da-9f99-d407aea21660",
   "metadata": {},
   "source": [
    "Physicians codes, diagnosis codes and procedures codes variables has many categories and that is why TotalPhysicians, TotalDiagnosis and TotalProcedures columns are engineered."
   ]
  },
  {
   "cell_type": "code",
   "execution_count": null,
   "id": "d1643ab5-2445-4493-936f-6199e3873a64",
   "metadata": {},
   "outputs": [],
   "source": [
    "# creating helper dataframe to calculate the totals\n",
    "cols= ['AttendingPhysician', 'OperatingPhysician', 'OtherPhysician', \n",
    "       'ClmAdmitDiagnosisCode', 'ClmDiagnosisCode_1', 'ClmDiagnosisCode_10',\n",
    "       'ClmDiagnosisCode_2', 'ClmDiagnosisCode_3', 'ClmDiagnosisCode_4',\n",
    "       'ClmDiagnosisCode_5', 'ClmDiagnosisCode_6', 'ClmDiagnosisCode_7',\n",
    "       'ClmDiagnosisCode_8', 'ClmDiagnosisCode_9', 'ClmProcedureCode_1',\n",
    "       'ClmProcedureCode_2', 'ClmProcedureCode_3', 'ClmProcedureCode_4',\n",
    "       'ClmProcedureCode_5']\n",
    "helper_df = data[cols].copy()\n",
    "# replacing missing values with 0 in the helper dataframe\n",
    "helper_df[cols]= helper_df[cols].replace({np.nan:0})\n",
    "# replacing codes with number 1 for easy counting\n",
    "for i in cols:\n",
    "    helper_df[i][helper_df[i]!=0]= 1\n",
    "helper_df.head(20)"
   ]
  },
  {
   "cell_type": "code",
   "execution_count": null,
   "id": "0b48d50a-83b5-49fa-baa0-0c7c29f1b2c9",
   "metadata": {},
   "outputs": [],
   "source": [
    "helper_df[cols]= helper_df[cols].astype(int)"
   ]
  },
  {
   "cell_type": "code",
   "execution_count": null,
   "id": "b60bf11c-adc8-4072-a533-b7e0a088aa6a",
   "metadata": {},
   "outputs": [],
   "source": [
    "data['TotalDiagnosis']= helper_df['ClmDiagnosisCode_1']+helper_df['ClmDiagnosisCode_10']+ \\\n",
    "helper_df['ClmDiagnosisCode_2']+ helper_df['ClmDiagnosisCode_3']+ helper_df['ClmDiagnosisCode_4']+ \\\n",
    "helper_df['ClmDiagnosisCode_5']+ helper_df['ClmDiagnosisCode_6']+ helper_df['ClmDiagnosisCode_7']+helper_df['ClmDiagnosisCode_8']+ helper_df['ClmDiagnosisCode_9']"
   ]
  },
  {
   "cell_type": "code",
   "execution_count": null,
   "id": "623fa4d1-e911-47dc-9440-eb9b943dd99b",
   "metadata": {},
   "outputs": [],
   "source": [
    "data['TotalProcedures']= helper_df['ClmProcedureCode_1']+helper_df['ClmProcedureCode_2']+helper_df['ClmProcedureCode_3']+ \\\n",
    "helper_df['ClmProcedureCode_4']+ helper_df['ClmProcedureCode_5']"
   ]
  },
  {
   "cell_type": "code",
   "execution_count": null,
   "id": "2b1be030-7cc9-4793-b4a8-9e5db22f4654",
   "metadata": {},
   "outputs": [],
   "source": [
    "data['TotalPhysicians']= helper_df['AttendingPhysician']+helper_df['OperatingPhysician']+ \\\n",
    "                         helper_df['OtherPhysician']"
   ]
  },
  {
   "cell_type": "code",
   "execution_count": null,
   "id": "42ef02ef-3c88-4996-90ec-9f87de905cef",
   "metadata": {},
   "outputs": [],
   "source": [
    "data.head()"
   ]
  },
  {
   "cell_type": "markdown",
   "id": "dff60dee-4057-40ac-b689-218016fcf679",
   "metadata": {},
   "source": [
    "RenalDiseaseIndicator column has 2 values populated in another way compared with other columns, hence the values are replaced with True and False"
   ]
  },
  {
   "cell_type": "code",
   "execution_count": null,
   "id": "19744b47-c6fa-49c7-bbfd-b684770d57ca",
   "metadata": {},
   "outputs": [],
   "source": [
    "# values check\n",
    "data['RenalDiseaseIndicator'].value_counts()"
   ]
  },
  {
   "cell_type": "code",
   "execution_count": null,
   "id": "d6e33be6-cf8a-4202-8781-ccdb052ba0a7",
   "metadata": {},
   "outputs": [],
   "source": [
    "# Value update\n",
    "data['RenalDiseaseIndicator']= data['RenalDiseaseIndicator'].replace({'Y':True,'0':False})\n",
    "data.head()"
   ]
  },
  {
   "cell_type": "code",
   "execution_count": null,
   "id": "99d63018-96e3-4092-8f92-73468d724de3",
   "metadata": {},
   "outputs": [],
   "source": [
    "# Value update\n",
    "data['PotentialFraud']= data['PotentialFraud'].replace({'Yes':1,'No':0})\n",
    "data.head()"
   ]
  },
  {
   "cell_type": "code",
   "execution_count": null,
   "id": "d751f407-7313-48f0-8371-7de069dc61bd",
   "metadata": {},
   "outputs": [],
   "source": [
    "data.columns"
   ]
  },
  {
   "cell_type": "markdown",
   "id": "59d752c0-72c8-4b2f-a9ea-875eb79ab9bc",
   "metadata": {},
   "source": [
    "Values True and False can't be fed into the machine learning algorithm, hence are replaced with 1 and 0 respectively."
   ]
  },
  {
   "cell_type": "code",
   "execution_count": null,
   "id": "43684254-3427-4413-a70c-906a1067bf27",
   "metadata": {},
   "outputs": [],
   "source": [
    "binary_cols = ['ClaimEndAfterDischarged', 'IsDead', 'PotentialFraud', 'RenalDiseaseIndicator']\n",
    "for col in binary_cols:\n",
    "    data[col] = np.where(data[col]==True, 1, 0)\n",
    "data.head()"
   ]
  },
  {
   "cell_type": "code",
   "execution_count": null,
   "id": "da2604d9-427f-4ab3-aa70-2aae53246d82",
   "metadata": {},
   "outputs": [],
   "source": [
    "binary_cols = ['ChronicCond_Alzheimer', 'ChronicCond_Heartfailure',\n",
    "       'ChronicCond_KidneyDisease', 'ChronicCond_Cancer',\n",
    "       'ChronicCond_ObstrPulmonary', 'ChronicCond_Depression',\n",
    "       'ChronicCond_Diabetes', 'ChronicCond_IschemicHeart',\n",
    "       'ChronicCond_Osteoporasis', 'ChronicCond_rheumatoidarthritis',\n",
    "       'ChronicCond_stroke']\n",
    "for col in binary_cols:\n",
    "    data[col] = np.where(data[col]==1, 1, 0)\n",
    "data.head()"
   ]
  },
  {
   "cell_type": "code",
   "execution_count": null,
   "id": "d33d5085-3a13-4b79-866e-904aea6ebcfc",
   "metadata": {},
   "outputs": [],
   "source": [
    "data.head()"
   ]
  },
  {
   "cell_type": "markdown",
   "id": "b9d6e0bf-4d5e-439b-993a-98cccdb8db1b",
   "metadata": {},
   "source": [
    "### Data saving"
   ]
  },
  {
   "attachments": {},
   "cell_type": "markdown",
   "id": "a8f9ba82-3ef9-41bc-aaac-129c9b8752fc",
   "metadata": {},
   "source": [
    "The preprocessed data are pushed to github to the separate folder https://raw.githubusercontent.com/EY-Tech-Consulting-Denmark/Graphathon_2023-04-14/main/Data/clean_data.  \n",
    "Data prepared like this will be used to build a graph database and for the machine learning."
   ]
  },
  {
   "cell_type": "code",
   "execution_count": null,
   "id": "a770ae79-e92f-48f8-8d65-5a6fb74a4455",
   "metadata": {},
   "outputs": [],
   "source": [
    "#data.to_csv(\"path_to_local_git_folder\\\\Graphathon_2023-04-14\\\\Data\\\\clean_data\\\\data.csv\", index=False)"
   ]
  }
 ],
 "metadata": {
  "kernelspec": {
   "display_name": "Python 3",
   "language": "python",
   "name": "python3"
  },
  "language_info": {
   "codemirror_mode": {
    "name": "ipython",
    "version": 3
   },
   "file_extension": ".py",
   "mimetype": "text/x-python",
   "name": "python",
   "nbconvert_exporter": "python",
   "pygments_lexer": "ipython3",
   "version": "3.11.2"
  },
  "vscode": {
   "interpreter": {
    "hash": "0dc272d72320a1930e36722e023630059a17b3b76c58b0a8e1252edca3683d77"
   }
  }
 },
 "nbformat": 4,
 "nbformat_minor": 5
}
