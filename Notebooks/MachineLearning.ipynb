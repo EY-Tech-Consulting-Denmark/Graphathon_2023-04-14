{
 "cells": [
  {
   "cell_type": "code",
   "execution_count": null,
   "id": "85f475c8-5ce5-463e-ba76-af3d793f0ad7",
   "metadata": {},
   "outputs": [],
   "source": [
    "# imports\n",
    "import numpy as np\n",
    "from lib.ml_helper import *\n",
    "from sklearn.model_selection import train_test_split\n",
    "from sklearn.ensemble import RandomForestClassifier\n",
    "from sklearn.feature_selection import SequentialFeatureSelector as SFS\n",
    "from graphdatascience import GraphDataScience\n",
    "\n",
    "import warnings\n",
    "warnings.filterwarnings('ignore')\n",
    "warnings.simplefilter('ignore')\n",
    "pd.set_option('display.max_columns',500)"
   ]
  },
  {
   "cell_type": "markdown",
   "id": "831289ee-25d1-4257-b7a4-c144c9deb1af",
   "metadata": {},
   "source": [
    "## Machine Learning"
   ]
  },
  {
   "cell_type": "markdown",
   "id": "ee500111-ee92-4b28-9a88-0dfc3f788554",
   "metadata": {},
   "source": [
    "### Preparation of the data for model building"
   ]
  },
  {
   "cell_type": "markdown",
   "id": "62371cdc-a1bb-44e5-9067-0c4455fbb07f",
   "metadata": {},
   "source": [
    "#### Data loading"
   ]
  },
  {
   "cell_type": "code",
   "execution_count": null,
   "id": "24abd723-4ea0-441d-9718-c56487d75639",
   "metadata": {},
   "outputs": [],
   "source": [
    "data = pd.read_csv(\"https://raw.githubusercontent.com/EY-Tech-Consulting-Denmark/Graphathon_2023-04-14/main/Data/clean_data/data.csv\")\n",
    "data.head()"
   ]
  },
  {
   "cell_type": "code",
   "execution_count": null,
   "id": "ce042046-fac2-4f56-9541-1d26933137bf",
   "metadata": {},
   "outputs": [],
   "source": [
    "data.shape"
   ]
  },
  {
   "cell_type": "markdown",
   "id": "fb11542e-9b4d-4230-84fd-ac376685de97",
   "metadata": {},
   "source": [
    "The dataset is on the claim level, while the labels are provided on the fraudulent level.  \n",
    "The dataset is therefor aggregated and aggregated features are calculated.  "
   ]
  },
  {
   "cell_type": "markdown",
   "id": "27469a2c-4974-4dfc-b726-605608930176",
   "metadata": {},
   "source": [
    "#### Data aggregation"
   ]
  },
  {
   "cell_type": "code",
   "execution_count": null,
   "id": "28b8b194-6fff-4a5e-a04f-1681313f91e1",
   "metadata": {},
   "outputs": [],
   "source": [
    "# In order to create features that capture behaviour of providers, various ratios (amounts per claim) are calculated.\n",
    "features = ['ChronicCond_Alzheimer', 'ChronicCond_Heartfailure',\n",
    "       'ChronicCond_KidneyDisease', 'ChronicCond_Cancer',\n",
    "       'ChronicCond_ObstrPulmonary', 'ChronicCond_Depression',\n",
    "       'ChronicCond_Diabetes', 'ChronicCond_IschemicHeart',\n",
    "       'ChronicCond_Osteoporasis', 'ChronicCond_rheumatoidarthritis',\n",
    "       'ChronicCond_stroke', 'IPAnnualReimbursementAmt',\n",
    "       'IPAnnualDeductibleAmt', 'OPAnnualReimbursementAmt',\n",
    "       'OPAnnualDeductibleAmt', 'DaysAdmitted',\n",
    "       'DaysClaimLasted', 'ClaimEndAfterDischarged', 'Age', 'TotalDiagnosis',\n",
    "       'TotalProcedures', 'TotalPhysicians', 'Provider']\n",
    "aggregated_data_means = data[features].groupby('Provider').mean().reset_index()\n",
    "\n",
    "# Aggregating the data by the provider, getting the unique counts\n",
    "aggregated_data_counts = data[['BeneID', 'ClaimID', 'Provider']].groupby('Provider').nunique().reset_index()\n",
    "\n",
    "# Concatenating the two aggregations\n",
    "aggregated_data = pd.merge(aggregated_data_means, aggregated_data_counts, on='Provider')\n",
    "                                                                                                                      \n",
    "# Adding the labels\n",
    "aggregated_data = pd.merge(aggregated_data, data[['Provider', 'PotentialFraud']].groupby('Provider').min(), on='Provider')\n",
    "                                                                                                                      \n",
    "aggregated_data.head()"
   ]
  },
  {
   "cell_type": "code",
   "execution_count": null,
   "id": "4e48f5c7-2d3b-48ad-9fcd-f569862187bb",
   "metadata": {},
   "outputs": [],
   "source": [
    "# Calculating average amount of claims per beneficiary\n",
    "aggregated_data['claims_per_beneficiary'] = aggregated_data['ClaimID'] / aggregated_data['BeneID']\n",
    "   \n",
    "# renaming 'ClaimID' to 'Total_claims'\n",
    "aggregated_data.rename(columns={'ClaimID': 'Total_claims'}, inplace=True)\n",
    "\n",
    "features.extend(['Total_claims', 'claims_per_beneficiary'])\n",
    "aggregated_data.head()"
   ]
  },
  {
   "cell_type": "markdown",
   "id": "9b1d8c44-d1d5-47a5-861c-b923cbc31f78",
   "metadata": {},
   "source": [
    "#### Features and target split"
   ]
  },
  {
   "cell_type": "code",
   "execution_count": null,
   "id": "9c042e24-afd4-402e-b45b-48d19dfadc2d",
   "metadata": {},
   "outputs": [],
   "source": [
    "X = aggregated_data[features]                                           \n",
    "y = aggregated_data['PotentialFraud']"
   ]
  },
  {
   "cell_type": "markdown",
   "id": "5f78792d-74a2-4947-af9e-8b77618cd6a8",
   "metadata": {},
   "source": [
    "#### Train-test split"
   ]
  },
  {
   "cell_type": "code",
   "execution_count": null,
   "id": "c741e9c4-7648-48c6-9f2b-c77925da8c28",
   "metadata": {},
   "outputs": [],
   "source": [
    "X_train, X_test, y_train, y_test = train_test_split(X, y,\n",
    "                                                test_size=0.3, \n",
    "                                                random_state=1,\n",
    "                                                stratify=y)\n"
   ]
  },
  {
   "cell_type": "markdown",
   "id": "7e9db984-2aa1-469f-8fb3-893ad7ea08f5",
   "metadata": {},
   "source": [
    "### Model building"
   ]
  },
  {
   "cell_type": "code",
   "execution_count": null,
   "id": "212dcb21-5db1-45ef-b516-108ba7ec9f1f",
   "metadata": {},
   "outputs": [],
   "source": [
    "# Building a model\n",
    "rf_classifier = RandomForestClassifier(random_state = 42, max_depth=4, min_samples_leaf=30, max_features=4)"
   ]
  },
  {
   "cell_type": "code",
   "execution_count": null,
   "id": "b2ac3ac3-b00e-4efd-91b6-e5ccb713d222",
   "metadata": {},
   "outputs": [],
   "source": [
    "# Feature selection\n",
    "sfs = SFS(rf_classifier,\n",
    "           direction=\"backward\", \n",
    "           scoring='roc_auc', # what metrics to optimize when selecting the parameters\n",
    "           cv=2)\n",
    "\n",
    "sfs = sfs.fit(np.array( X_train.drop('Provider', axis=1)), y_train)\n",
    "\n",
    "# selected columns\n",
    "selected_columns = X_train.drop('Provider', axis=1).columns[list(sfs.support_)]\n",
    "print(selected_columns)"
   ]
  },
  {
   "cell_type": "code",
   "execution_count": null,
   "id": "1969ebda-3147-4861-bdcc-4a761818624f",
   "metadata": {},
   "outputs": [],
   "source": [
    "# Calculating roc_auc using 5-folds cross validation\n",
    "rf_classifier_roc_auc_scores = cross_validate(rf_classifier, X_train[selected_columns], y_train, metric='roc_auc')"
   ]
  },
  {
   "cell_type": "code",
   "execution_count": null,
   "id": "9cde6d7a-8a81-4df6-bd55-3d1ee741220c",
   "metadata": {},
   "outputs": [],
   "source": [
    "# fitting of the model\n",
    "fitted_rf_classifier = fit_model(rf_classifier, X_train[selected_columns], y_train)"
   ]
  },
  {
   "cell_type": "code",
   "execution_count": null,
   "id": "99a5967e-feb8-4879-ac9d-a9038f558a44",
   "metadata": {},
   "outputs": [],
   "source": [
    "get_features_importance(fitted_rf_classifier, X_train[selected_columns].columns)"
   ]
  },
  {
   "cell_type": "code",
   "execution_count": null,
   "id": "c1ffed95-63e4-4203-8e95-6bcb6332a0b8",
   "metadata": {},
   "outputs": [],
   "source": [
    "# evaluation on the train set\n",
    "plot_confusion_matrix(fitted_rf_classifier, X_train[selected_columns], y_train)"
   ]
  },
  {
   "cell_type": "code",
   "execution_count": null,
   "id": "195b8341-38dc-4a74-be84-743ba7b44f9c",
   "metadata": {},
   "outputs": [],
   "source": [
    "# evaluation on the test set\n",
    "plot_confusion_matrix(fitted_rf_classifier, X_test[selected_columns], y_test)"
   ]
  },
  {
   "cell_type": "markdown",
   "id": "89e2be95-a0b3-43c6-8139-631286b0092c",
   "metadata": {},
   "source": [
    "## Model building utilizing graph features"
   ]
  },
  {
   "cell_type": "code",
   "execution_count": null,
   "id": "99f82d7b-6a6c-4e5b-a92f-b83f76b84877",
   "metadata": {},
   "outputs": [],
   "source": [
    "# Connect to neo4j DBMS\n",
    "\n",
    "#this is local DBMS via neo4j Desktop for testing purposes needs to be changed\n",
    "DB_ULR = \"bolt://localhost:7687\" \n",
    "DB_USER = \"neo4j\"\n",
    "DB_PASS = \"1234\"\n",
    "gds = GraphDataScience(DB_ULR, auth=(DB_USER, DB_PASS))"
   ]
  },
  {
   "cell_type": "markdown",
   "id": "7a34e2de-1217-4d03-b77d-99211b1afa6e",
   "metadata": {},
   "source": [
    "### Get graph features\n",
    "Let's create a few features for Providers"
   ]
  },
  {
   "cell_type": "markdown",
   "id": "24291966-5347-46de-8fed-f43c127c4b58",
   "metadata": {},
   "source": [
    "### Using simple queries"
   ]
  },
  {
   "cell_type": "code",
   "execution_count": null,
   "id": "ad5b65a0",
   "metadata": {},
   "outputs": [],
   "source": [
    "# Flagging providers that have submitted the same claim twice\n",
    "gds.run_cypher('''\n",
    "    match (p:Provider)\n",
    "    with p, size([(c2)-[:IS_SIMILAR_TO]-(c1:Claim)-[:SUBMITTED_BY]->(p) | 1] ) as  similar_claims \n",
    "    set p.similar_claims = similar_claims\n",
    "''')"
   ]
  },
  {
   "cell_type": "code",
   "execution_count": null,
   "id": "0eb2b91e-afcc-4a64-a6e8-ef827fbe52c9",
   "metadata": {},
   "outputs": [],
   "source": [
    "# Re use our claim communites (based on diagnosis codes)\n",
    "gds.run_cypher(''' \n",
    "    match (p:Provider)<-[:SUBMITTED_BY]-(c)\n",
    "    with p, count(distinct c.community_id) as number_of_claim_communities\n",
    "    set p.number_of_claim_communities = number_of_claim_communities\n",
    "''')"
   ]
  },
  {
   "cell_type": "markdown",
   "id": "55780a46-598c-41dd-ae36-3d26ae906dec",
   "metadata": {},
   "source": [
    "### Using graph algorithms"
   ]
  },
  {
   "cell_type": "markdown",
   "id": "aff44a3d-f8a6-4147-b03e-715a548f3b80",
   "metadata": {},
   "source": [
    "#### Pagerank"
   ]
  },
  {
   "cell_type": "code",
   "execution_count": null,
   "id": "bb883e58-1a1c-4711-81c1-196c0fba6ef2",
   "metadata": {},
   "outputs": [],
   "source": [
    "# Central providers in the network (based on sharing Physician on Beneficiary through claims)\n",
    "g_pagerank, project_stats = gds.graph.project.cypher(\n",
    "    'g_pagerank',\n",
    "    ''' \n",
    "        match (n:Provider) return id(n) as id\n",
    "    ''',\n",
    "    '''\n",
    "        match (p1:Provider)<-[:SUBMITTED_BY]-()-->(n:Physician|Beneficiary)<--()-[:SUBMITTED_BY]->(p2)\n",
    "        where p1<>p2\n",
    "        return id(p1) as source, id(p2) as target, count(distinct n) as weight\n",
    "    '''\n",
    ")\n",
    "project_stats"
   ]
  },
  {
   "cell_type": "code",
   "execution_count": null,
   "id": "d825e040-4edd-4da7-8b25-784a3d917d4a",
   "metadata": {},
   "outputs": [],
   "source": [
    "# Pagerank (stats)\n",
    "gds.pageRank.stats(g_pagerank, maxIterations=100)"
   ]
  },
  {
   "cell_type": "code",
   "execution_count": null,
   "id": "1a992cda-e9d9-4670-bb4c-8841873750b5",
   "metadata": {},
   "outputs": [],
   "source": [
    "# Pagerank (write)\n",
    "gds.pageRank.write(g_pagerank, maxIterations=100, writeProperty='pagerank')"
   ]
  },
  {
   "cell_type": "code",
   "execution_count": null,
   "id": "0a3de0e8-c639-4a7a-ab39-6a06aa7c3c6a",
   "metadata": {},
   "outputs": [],
   "source": [
    "g_pagerank.drop()"
   ]
  },
  {
   "cell_type": "markdown",
   "id": "6e94ec24-9e17-4b6f-ae45-e200228d1017",
   "metadata": {},
   "source": [
    "#### Community (take 2)"
   ]
  },
  {
   "cell_type": "code",
   "execution_count": null,
   "id": "165b4cc2-730c-4c4f-a581-f92dc9c5c03c",
   "metadata": {},
   "outputs": [],
   "source": [
    "g_provider_community, project_stats = gds.graph.project(\n",
    "    'g_provider_community', \n",
    "    ['Provider', 'Claim', 'Diagnosis'], \n",
    "    [ \n",
    "        {\n",
    "            'SUBMITTED_BY':          {'orientation': 'REVERSE'},\n",
    "            'HAS_DIAGNOSIS_CODE_OF': {'orientation': 'NATURAL'},\n",
    "            'HAS_GROUP_CODE_OF':     {'orientation': 'NATURAL'}\n",
    "        }\n",
    "    ]\n",
    ")\n",
    "project_stats"
   ]
  },
  {
   "cell_type": "code",
   "execution_count": null,
   "id": "0fafdf52-9b17-4541-ae75-4a616191475c",
   "metadata": {},
   "outputs": [],
   "source": [
    "gds.beta.collapsePath.mutate(\n",
    "    g_provider_community,\n",
    "    pathTemplates=[['SUBMITTED_BY','HAS_DIAGNOSIS_CODE_OF'], ['SUBMITTED_BY','HAS_GROUP_CODE_OF']],\n",
    "    mutateRelationshipType='PROVIDER_FOR_DIAGNOSIS'\n",
    ")"
   ]
  },
  {
   "cell_type": "code",
   "execution_count": null,
   "id": "c1ceee72-7cec-475c-82d4-bf6ab2d05e74",
   "metadata": {},
   "outputs": [],
   "source": [
    "gds.louvain.stats(\n",
    "    g_provider_community,\n",
    "    nodeLabels=['Provider','Diagnosis'],\n",
    "    relationshipTypes=['PROVIDER_FOR_DIAGNOSIS']\n",
    ")"
   ]
  },
  {
   "cell_type": "code",
   "execution_count": null,
   "id": "e2c7d8f4-a6af-4bfc-abfa-e1099ec90e05",
   "metadata": {},
   "outputs": [],
   "source": [
    "gds.louvain.write(\n",
    "    g_provider_community,\n",
    "    nodeLabels=['Provider','Diagnosis'],\n",
    "    relationshipTypes=['PROVIDER_FOR_DIAGNOSIS'],\n",
    "    writeProperty='providerCommunityId'\n",
    ")"
   ]
  },
  {
   "cell_type": "code",
   "execution_count": null,
   "id": "f88b214b-74e6-4e6d-8d12-46c4d64caafe",
   "metadata": {},
   "outputs": [],
   "source": [
    "g_provider_community.drop()"
   ]
  },
  {
   "cell_type": "code",
   "execution_count": null,
   "id": "b98106fd-5001-433c-b072-259c121ddccc",
   "metadata": {},
   "outputs": [],
   "source": [
    "# Loading providers that submitted 2 similar claims\n",
    "graph_features = gds.run_cypher('''\n",
    "    match (p:Provider)\n",
    "    return  p.id as Provider,\n",
    "            p.similar_claims as similar_claims,\n",
    "            p.number_of_claim_communities as number_of_claim_communities,\n",
    "            p.providerCommunityId as providerCommunityId,\n",
    "            p.pagerank as pagerank\n",
    "''')"
   ]
  },
  {
   "cell_type": "code",
   "execution_count": null,
   "id": "e2ad71a9-9206-4512-9ea8-570b647ad646",
   "metadata": {},
   "outputs": [],
   "source": [
    "# adding the information to the train and test set\n",
    "X_train_enhanced = pd.merge(X_train, graph_features, on ='Provider', how='left').fillna(0)\n",
    "X_test_enhanced = pd.merge(X_test, graph_features, on ='Provider', how='left').fillna(0)\n",
    "\n",
    "# fixing the type\n",
    "#X_train_enhanced['similar_claims'] = X_train_enhanced['similar_claims'].astype(int)\n",
    "#X_test_enhanced['similar_claims'] = X_test_enhanced['similar_claims'].astype(int)"
   ]
  },
  {
   "cell_type": "markdown",
   "id": "03f7326b-7edc-4a56-97e9-e8b747707495",
   "metadata": {},
   "source": [
    "### Model building"
   ]
  },
  {
   "cell_type": "code",
   "execution_count": null,
   "id": "d58ef584-91ef-4c32-8475-8d76efbb4e6d",
   "metadata": {},
   "outputs": [],
   "source": [
    "# Building a model\n",
    "rf_classifier_enhanced = RandomForestClassifier(random_state = 42, max_depth=4, min_samples_leaf=30, max_features=4)"
   ]
  },
  {
   "cell_type": "code",
   "execution_count": null,
   "id": "8dff6a63-d88d-4e01-81f6-1884b2b49a73",
   "metadata": {},
   "outputs": [],
   "source": [
    "# Feature selection\n",
    "sfs = SFS(rf_classifier,\n",
    "           direction=\"backward\", \n",
    "           scoring='roc_auc', # what metrics to optimize when selecting the parameters\n",
    "           cv=2)\n",
    "\n",
    "sfs_enhanced = sfs.fit(np.array( X_train_enhanced.drop('Provider', axis=1)), y_train)\n",
    "\n",
    "# selected columns\n",
    "selected_columns_enhanced = X_train_enhanced.drop('Provider', axis=1).columns[list(sfs.support_)]\n",
    "print(selected_columns_enhanced)"
   ]
  },
  {
   "cell_type": "code",
   "execution_count": null,
   "id": "4ebf635b-3beb-40e2-b454-6ae08deadf39",
   "metadata": {},
   "outputs": [],
   "source": [
    "# Calculating roc_auc using 5-folds cross validation\n",
    "rf_classifier_enhanced_roc_auc_scores = cross_validate(rf_classifier_enhanced, X_train_enhanced.drop('Provider', axis=1), y_train, metric='roc_auc')"
   ]
  },
  {
   "cell_type": "code",
   "execution_count": null,
   "id": "e39180e8-82f0-439e-8320-2d3b335b458d",
   "metadata": {},
   "outputs": [],
   "source": [
    "# fitting of the model\n",
    "fitted_rf_classifier_enhanced = fit_model(rf_classifier_enhanced, X_train_enhanced[selected_columns_enhanced], y_train)"
   ]
  },
  {
   "cell_type": "code",
   "execution_count": null,
   "id": "f1fdae1f-4f88-4cf6-a16a-7923d4622e56",
   "metadata": {},
   "outputs": [],
   "source": [
    "get_features_importance(fitted_rf_classifier_enhanced, X_train_enhanced[selected_columns_enhanced].columns)"
   ]
  },
  {
   "cell_type": "code",
   "execution_count": null,
   "id": "9b3b9d7a-4d01-43f8-b39c-f9839ee03a9b",
   "metadata": {},
   "outputs": [],
   "source": [
    "# evaluation on the train set\n",
    "plot_confusion_matrix(fitted_rf_classifier_enhanced, X_train_enhanced[selected_columns_enhanced], y_train)"
   ]
  },
  {
   "cell_type": "code",
   "execution_count": null,
   "id": "80e94004-dc6f-44ad-86b9-999c49562875",
   "metadata": {},
   "outputs": [],
   "source": [
    "# evaluation on the test set\n",
    "plot_confusion_matrix(fitted_rf_classifier_enhanced, X_test_enhanced[selected_columns_enhanced], y_test)"
   ]
  },
  {
   "cell_type": "markdown",
   "id": "a7987b44-93b6-4610-84d4-a66d576b3c99",
   "metadata": {},
   "source": [
    "### Models comparison"
   ]
  },
  {
   "cell_type": "markdown",
   "id": "c39d7361-a130-4eea-8b28-8009c413afed",
   "metadata": {},
   "source": [
    "##### Train set comparison"
   ]
  },
  {
   "cell_type": "code",
   "execution_count": null,
   "id": "ec09d7a7-6551-4810-9e17-9353f0419fca",
   "metadata": {},
   "outputs": [],
   "source": [
    "plot_confusion_matrix_comparison(fitted_model_a=fitted_rf_classifier, fitted_model_b=fitted_rf_classifier_enhanced,\n",
    "                                  X=X_train[selected_columns], X_enhanced=X_train_enhanced[selected_columns_enhanced], y=y_train)"
   ]
  },
  {
   "cell_type": "markdown",
   "id": "97a1c1ce-3ffa-401d-bf52-35d33d48405e",
   "metadata": {},
   "source": [
    "##### Test set comparison"
   ]
  },
  {
   "cell_type": "code",
   "execution_count": null,
   "id": "6e3c4816-37f1-429c-8478-057b28b13662",
   "metadata": {},
   "outputs": [],
   "source": [
    "plot_confusion_matrix_comparison(fitted_model_a=fitted_rf_classifier, fitted_model_b=fitted_rf_classifier_enhanced,\n",
    "                                  X=X_test[selected_columns], X_enhanced=X_test_enhanced[selected_columns_enhanced], y=y_test)"
   ]
  },
  {
   "cell_type": "markdown",
   "id": "07e286f3-ba8e-452b-967c-129d340cbc27",
   "metadata": {},
   "source": [
    "#### Cross validation comparison"
   ]
  },
  {
   "cell_type": "code",
   "execution_count": null,
   "id": "26c9b7a3-b5ce-4946-a575-cf029929a99f",
   "metadata": {},
   "outputs": [],
   "source": [
    "compare_models(model_names=[fitted_rf_classifier, fitted_rf_classifier_enhanced],\n",
    "               cv_results=[rf_classifier_roc_auc_scores, rf_classifier_enhanced_roc_auc_scores])"
   ]
  }
 ],
 "metadata": {
  "kernelspec": {
   "display_name": "Python 3 (ipykernel)",
   "language": "python",
   "name": "python3"
  },
  "language_info": {
   "codemirror_mode": {
    "name": "ipython",
    "version": 3
   },
   "file_extension": ".py",
   "mimetype": "text/x-python",
   "name": "python",
   "nbconvert_exporter": "python",
   "pygments_lexer": "ipython3",
   "version": "3.9.7"
  },
  "vscode": {
   "interpreter": {
    "hash": "c68434ca16130d73e64183f54aeda16ecffce872c062f16976fd0d983519d848"
   }
  }
 },
 "nbformat": 4,
 "nbformat_minor": 5
}
